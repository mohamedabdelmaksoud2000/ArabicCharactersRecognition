{
  "metadata": {
    "kernelspec": {
      "language": "python",
      "display_name": "Python 3",
      "name": "python3"
    },
    "language_info": {
      "name": "python",
      "version": "3.7.12",
      "mimetype": "text/x-python",
      "codemirror_mode": {
        "name": "ipython",
        "version": 3
      },
      "pygments_lexer": "ipython3",
      "nbconvert_exporter": "python",
      "file_extension": ".py"
    },
    "colab": {
      "provenance": [],
      "gpuType": "T4"
    },
    "accelerator": "GPU",
    "gpuClass": "standard"
  },
  "nbformat_minor": 0,
  "nbformat": 4,
  "cells": [
    {
      "cell_type": "code",
      "source": [
        "# Importing libraries\n",
        "import pandas as pd\n",
        "import matplotlib.pyplot as plt\n",
        "import numpy as np\n",
        "\n",
        "from tensorflow.keras.utils import to_categorical\n",
        "from tensorflow.keras.models import Sequential\n",
        "from tensorflow.keras.layers import Conv2D,MaxPooling2D,Flatten,Dense,Dropout\n",
        "from tensorflow.keras.utils import to_categorical\n",
        "from tensorflow.keras.preprocessing.image import ImageDataGenerator"
      ],
      "metadata": {
        "_uuid": "8f2839f25d086af736a60e9eeb907d3b93b6e0e5",
        "_cell_guid": "b1076dfc-b9ad-4769-8c92-a6c4dae69d19",
        "execution": {
          "iopub.status.busy": "2022-10-07T14:34:44.654180Z",
          "iopub.execute_input": "2022-10-07T14:34:44.654699Z",
          "iopub.status.idle": "2022-10-07T14:34:44.667880Z",
          "shell.execute_reply.started": "2022-10-07T14:34:44.654651Z",
          "shell.execute_reply": "2022-10-07T14:34:44.666861Z"
        },
        "trusted": true,
        "id": "ufx43ExUaQ1R"
      },
      "execution_count": null,
      "outputs": []
    },
    {
      "cell_type": "code",
      "source": [
        "!unzip /content/archive.zip"
      ],
      "metadata": {
        "id": "tbpzFgMyt-AX"
      },
      "execution_count": null,
      "outputs": []
    },
    {
      "cell_type": "code",
      "source": [
        "x_train = pd.read_csv(\"/content/csvTrainImages 13440x1024.csv\",header=None)\n",
        "y_train = pd.read_csv(\"/content/csvTrainLabel 13440x1.csv\",header=None)\n",
        "\n",
        "x_test = pd.read_csv(\"/content/csvTestImages 3360x1024.csv\",header=None)\n",
        "y_test = pd.read_csv(\"/content/csvTestLabel 3360x1.csv\",header=None)"
      ],
      "metadata": {
        "execution": {
          "iopub.status.busy": "2022-10-07T14:34:44.685612Z",
          "iopub.execute_input": "2022-10-07T14:34:44.687122Z",
          "iopub.status.idle": "2022-10-07T14:34:45.762924Z",
          "shell.execute_reply.started": "2022-10-07T14:34:44.687050Z",
          "shell.execute_reply": "2022-10-07T14:34:45.761852Z"
        },
        "trusted": true,
        "id": "3BZ2AIC_aQ1p"
      },
      "execution_count": null,
      "outputs": []
    },
    {
      "cell_type": "code",
      "source": [
        "x_test.head()"
      ],
      "metadata": {
        "execution": {
          "iopub.status.busy": "2022-10-07T14:34:45.764713Z",
          "iopub.execute_input": "2022-10-07T14:34:45.765098Z",
          "iopub.status.idle": "2022-10-07T14:34:45.781368Z",
          "shell.execute_reply.started": "2022-10-07T14:34:45.765058Z",
          "shell.execute_reply": "2022-10-07T14:34:45.780273Z"
        },
        "trusted": true,
        "colab": {
          "base_uri": "https://localhost:8080/",
          "height": 235
        },
        "id": "lLooLVeraQ1x",
        "outputId": "5922e045-a44f-459f-a87a-1ed6fc746e65"
      },
      "execution_count": null,
      "outputs": [
        {
          "output_type": "execute_result",
          "data": {
            "text/plain": [
              "   0     1     2     3     4     5     6     7     8     9     ...  1014  \\\n",
              "0     0     0     0     0     0     0     0     0     0     0  ...     0   \n",
              "1     0     0     0     0     0     0     0     0     0     0  ...     0   \n",
              "2     0     0     0     0     0     0     0     0     0     0  ...     0   \n",
              "3     0     0     0     0     0     0     0     0     0     0  ...     0   \n",
              "4     0     0     0     0     0     0     0     0     0     0  ...     0   \n",
              "\n",
              "   1015  1016  1017  1018  1019  1020  1021  1022  1023  \n",
              "0     0     0     0     0     0     0     0     0     0  \n",
              "1     0     0     0     0     0     0     0     0     0  \n",
              "2     0     0     0     0     0     0     0     0     0  \n",
              "3     0     0     0     0     0     0     0     0     0  \n",
              "4     0     0     0     0     0     0     0     0     0  \n",
              "\n",
              "[5 rows x 1024 columns]"
            ],
            "text/html": [
              "\n",
              "  <div id=\"df-ae34652f-fd37-4f55-bf2d-17beeee4d9bf\">\n",
              "    <div class=\"colab-df-container\">\n",
              "      <div>\n",
              "<style scoped>\n",
              "    .dataframe tbody tr th:only-of-type {\n",
              "        vertical-align: middle;\n",
              "    }\n",
              "\n",
              "    .dataframe tbody tr th {\n",
              "        vertical-align: top;\n",
              "    }\n",
              "\n",
              "    .dataframe thead th {\n",
              "        text-align: right;\n",
              "    }\n",
              "</style>\n",
              "<table border=\"1\" class=\"dataframe\">\n",
              "  <thead>\n",
              "    <tr style=\"text-align: right;\">\n",
              "      <th></th>\n",
              "      <th>0</th>\n",
              "      <th>1</th>\n",
              "      <th>2</th>\n",
              "      <th>3</th>\n",
              "      <th>4</th>\n",
              "      <th>5</th>\n",
              "      <th>6</th>\n",
              "      <th>7</th>\n",
              "      <th>8</th>\n",
              "      <th>9</th>\n",
              "      <th>...</th>\n",
              "      <th>1014</th>\n",
              "      <th>1015</th>\n",
              "      <th>1016</th>\n",
              "      <th>1017</th>\n",
              "      <th>1018</th>\n",
              "      <th>1019</th>\n",
              "      <th>1020</th>\n",
              "      <th>1021</th>\n",
              "      <th>1022</th>\n",
              "      <th>1023</th>\n",
              "    </tr>\n",
              "  </thead>\n",
              "  <tbody>\n",
              "    <tr>\n",
              "      <th>0</th>\n",
              "      <td>0</td>\n",
              "      <td>0</td>\n",
              "      <td>0</td>\n",
              "      <td>0</td>\n",
              "      <td>0</td>\n",
              "      <td>0</td>\n",
              "      <td>0</td>\n",
              "      <td>0</td>\n",
              "      <td>0</td>\n",
              "      <td>0</td>\n",
              "      <td>...</td>\n",
              "      <td>0</td>\n",
              "      <td>0</td>\n",
              "      <td>0</td>\n",
              "      <td>0</td>\n",
              "      <td>0</td>\n",
              "      <td>0</td>\n",
              "      <td>0</td>\n",
              "      <td>0</td>\n",
              "      <td>0</td>\n",
              "      <td>0</td>\n",
              "    </tr>\n",
              "    <tr>\n",
              "      <th>1</th>\n",
              "      <td>0</td>\n",
              "      <td>0</td>\n",
              "      <td>0</td>\n",
              "      <td>0</td>\n",
              "      <td>0</td>\n",
              "      <td>0</td>\n",
              "      <td>0</td>\n",
              "      <td>0</td>\n",
              "      <td>0</td>\n",
              "      <td>0</td>\n",
              "      <td>...</td>\n",
              "      <td>0</td>\n",
              "      <td>0</td>\n",
              "      <td>0</td>\n",
              "      <td>0</td>\n",
              "      <td>0</td>\n",
              "      <td>0</td>\n",
              "      <td>0</td>\n",
              "      <td>0</td>\n",
              "      <td>0</td>\n",
              "      <td>0</td>\n",
              "    </tr>\n",
              "    <tr>\n",
              "      <th>2</th>\n",
              "      <td>0</td>\n",
              "      <td>0</td>\n",
              "      <td>0</td>\n",
              "      <td>0</td>\n",
              "      <td>0</td>\n",
              "      <td>0</td>\n",
              "      <td>0</td>\n",
              "      <td>0</td>\n",
              "      <td>0</td>\n",
              "      <td>0</td>\n",
              "      <td>...</td>\n",
              "      <td>0</td>\n",
              "      <td>0</td>\n",
              "      <td>0</td>\n",
              "      <td>0</td>\n",
              "      <td>0</td>\n",
              "      <td>0</td>\n",
              "      <td>0</td>\n",
              "      <td>0</td>\n",
              "      <td>0</td>\n",
              "      <td>0</td>\n",
              "    </tr>\n",
              "    <tr>\n",
              "      <th>3</th>\n",
              "      <td>0</td>\n",
              "      <td>0</td>\n",
              "      <td>0</td>\n",
              "      <td>0</td>\n",
              "      <td>0</td>\n",
              "      <td>0</td>\n",
              "      <td>0</td>\n",
              "      <td>0</td>\n",
              "      <td>0</td>\n",
              "      <td>0</td>\n",
              "      <td>...</td>\n",
              "      <td>0</td>\n",
              "      <td>0</td>\n",
              "      <td>0</td>\n",
              "      <td>0</td>\n",
              "      <td>0</td>\n",
              "      <td>0</td>\n",
              "      <td>0</td>\n",
              "      <td>0</td>\n",
              "      <td>0</td>\n",
              "      <td>0</td>\n",
              "    </tr>\n",
              "    <tr>\n",
              "      <th>4</th>\n",
              "      <td>0</td>\n",
              "      <td>0</td>\n",
              "      <td>0</td>\n",
              "      <td>0</td>\n",
              "      <td>0</td>\n",
              "      <td>0</td>\n",
              "      <td>0</td>\n",
              "      <td>0</td>\n",
              "      <td>0</td>\n",
              "      <td>0</td>\n",
              "      <td>...</td>\n",
              "      <td>0</td>\n",
              "      <td>0</td>\n",
              "      <td>0</td>\n",
              "      <td>0</td>\n",
              "      <td>0</td>\n",
              "      <td>0</td>\n",
              "      <td>0</td>\n",
              "      <td>0</td>\n",
              "      <td>0</td>\n",
              "      <td>0</td>\n",
              "    </tr>\n",
              "  </tbody>\n",
              "</table>\n",
              "<p>5 rows × 1024 columns</p>\n",
              "</div>\n",
              "      <button class=\"colab-df-convert\" onclick=\"convertToInteractive('df-ae34652f-fd37-4f55-bf2d-17beeee4d9bf')\"\n",
              "              title=\"Convert this dataframe to an interactive table.\"\n",
              "              style=\"display:none;\">\n",
              "        \n",
              "  <svg xmlns=\"http://www.w3.org/2000/svg\" height=\"24px\"viewBox=\"0 0 24 24\"\n",
              "       width=\"24px\">\n",
              "    <path d=\"M0 0h24v24H0V0z\" fill=\"none\"/>\n",
              "    <path d=\"M18.56 5.44l.94 2.06.94-2.06 2.06-.94-2.06-.94-.94-2.06-.94 2.06-2.06.94zm-11 1L8.5 8.5l.94-2.06 2.06-.94-2.06-.94L8.5 2.5l-.94 2.06-2.06.94zm10 10l.94 2.06.94-2.06 2.06-.94-2.06-.94-.94-2.06-.94 2.06-2.06.94z\"/><path d=\"M17.41 7.96l-1.37-1.37c-.4-.4-.92-.59-1.43-.59-.52 0-1.04.2-1.43.59L10.3 9.45l-7.72 7.72c-.78.78-.78 2.05 0 2.83L4 21.41c.39.39.9.59 1.41.59.51 0 1.02-.2 1.41-.59l7.78-7.78 2.81-2.81c.8-.78.8-2.07 0-2.86zM5.41 20L4 18.59l7.72-7.72 1.47 1.35L5.41 20z\"/>\n",
              "  </svg>\n",
              "      </button>\n",
              "      \n",
              "  <style>\n",
              "    .colab-df-container {\n",
              "      display:flex;\n",
              "      flex-wrap:wrap;\n",
              "      gap: 12px;\n",
              "    }\n",
              "\n",
              "    .colab-df-convert {\n",
              "      background-color: #E8F0FE;\n",
              "      border: none;\n",
              "      border-radius: 50%;\n",
              "      cursor: pointer;\n",
              "      display: none;\n",
              "      fill: #1967D2;\n",
              "      height: 32px;\n",
              "      padding: 0 0 0 0;\n",
              "      width: 32px;\n",
              "    }\n",
              "\n",
              "    .colab-df-convert:hover {\n",
              "      background-color: #E2EBFA;\n",
              "      box-shadow: 0px 1px 2px rgba(60, 64, 67, 0.3), 0px 1px 3px 1px rgba(60, 64, 67, 0.15);\n",
              "      fill: #174EA6;\n",
              "    }\n",
              "\n",
              "    [theme=dark] .colab-df-convert {\n",
              "      background-color: #3B4455;\n",
              "      fill: #D2E3FC;\n",
              "    }\n",
              "\n",
              "    [theme=dark] .colab-df-convert:hover {\n",
              "      background-color: #434B5C;\n",
              "      box-shadow: 0px 1px 3px 1px rgba(0, 0, 0, 0.15);\n",
              "      filter: drop-shadow(0px 1px 2px rgba(0, 0, 0, 0.3));\n",
              "      fill: #FFFFFF;\n",
              "    }\n",
              "  </style>\n",
              "\n",
              "      <script>\n",
              "        const buttonEl =\n",
              "          document.querySelector('#df-ae34652f-fd37-4f55-bf2d-17beeee4d9bf button.colab-df-convert');\n",
              "        buttonEl.style.display =\n",
              "          google.colab.kernel.accessAllowed ? 'block' : 'none';\n",
              "\n",
              "        async function convertToInteractive(key) {\n",
              "          const element = document.querySelector('#df-ae34652f-fd37-4f55-bf2d-17beeee4d9bf');\n",
              "          const dataTable =\n",
              "            await google.colab.kernel.invokeFunction('convertToInteractive',\n",
              "                                                     [key], {});\n",
              "          if (!dataTable) return;\n",
              "\n",
              "          const docLinkHtml = 'Like what you see? Visit the ' +\n",
              "            '<a target=\"_blank\" href=https://colab.research.google.com/notebooks/data_table.ipynb>data table notebook</a>'\n",
              "            + ' to learn more about interactive tables.';\n",
              "          element.innerHTML = '';\n",
              "          dataTable['output_type'] = 'display_data';\n",
              "          await google.colab.output.renderOutput(dataTable, element);\n",
              "          const docLink = document.createElement('div');\n",
              "          docLink.innerHTML = docLinkHtml;\n",
              "          element.appendChild(docLink);\n",
              "        }\n",
              "      </script>\n",
              "    </div>\n",
              "  </div>\n",
              "  "
            ]
          },
          "metadata": {},
          "execution_count": 4
        }
      ]
    },
    {
      "cell_type": "code",
      "source": [
        "y_test.head()"
      ],
      "metadata": {
        "execution": {
          "iopub.status.busy": "2022-10-07T14:34:45.782937Z",
          "iopub.execute_input": "2022-10-07T14:34:45.784091Z",
          "iopub.status.idle": "2022-10-07T14:34:45.794763Z",
          "shell.execute_reply.started": "2022-10-07T14:34:45.784054Z",
          "shell.execute_reply": "2022-10-07T14:34:45.793732Z"
        },
        "trusted": true,
        "colab": {
          "base_uri": "https://localhost:8080/",
          "height": 206
        },
        "id": "O558EUfCaQ2A",
        "outputId": "8cf7c71e-28b2-4379-8369-f547791d4adf"
      },
      "execution_count": null,
      "outputs": [
        {
          "output_type": "execute_result",
          "data": {
            "text/plain": [
              "   0\n",
              "0  1\n",
              "1  1\n",
              "2  2\n",
              "3  2\n",
              "4  3"
            ],
            "text/html": [
              "\n",
              "  <div id=\"df-bc381027-efb4-4ad4-9a85-864827ed285e\">\n",
              "    <div class=\"colab-df-container\">\n",
              "      <div>\n",
              "<style scoped>\n",
              "    .dataframe tbody tr th:only-of-type {\n",
              "        vertical-align: middle;\n",
              "    }\n",
              "\n",
              "    .dataframe tbody tr th {\n",
              "        vertical-align: top;\n",
              "    }\n",
              "\n",
              "    .dataframe thead th {\n",
              "        text-align: right;\n",
              "    }\n",
              "</style>\n",
              "<table border=\"1\" class=\"dataframe\">\n",
              "  <thead>\n",
              "    <tr style=\"text-align: right;\">\n",
              "      <th></th>\n",
              "      <th>0</th>\n",
              "    </tr>\n",
              "  </thead>\n",
              "  <tbody>\n",
              "    <tr>\n",
              "      <th>0</th>\n",
              "      <td>1</td>\n",
              "    </tr>\n",
              "    <tr>\n",
              "      <th>1</th>\n",
              "      <td>1</td>\n",
              "    </tr>\n",
              "    <tr>\n",
              "      <th>2</th>\n",
              "      <td>2</td>\n",
              "    </tr>\n",
              "    <tr>\n",
              "      <th>3</th>\n",
              "      <td>2</td>\n",
              "    </tr>\n",
              "    <tr>\n",
              "      <th>4</th>\n",
              "      <td>3</td>\n",
              "    </tr>\n",
              "  </tbody>\n",
              "</table>\n",
              "</div>\n",
              "      <button class=\"colab-df-convert\" onclick=\"convertToInteractive('df-bc381027-efb4-4ad4-9a85-864827ed285e')\"\n",
              "              title=\"Convert this dataframe to an interactive table.\"\n",
              "              style=\"display:none;\">\n",
              "        \n",
              "  <svg xmlns=\"http://www.w3.org/2000/svg\" height=\"24px\"viewBox=\"0 0 24 24\"\n",
              "       width=\"24px\">\n",
              "    <path d=\"M0 0h24v24H0V0z\" fill=\"none\"/>\n",
              "    <path d=\"M18.56 5.44l.94 2.06.94-2.06 2.06-.94-2.06-.94-.94-2.06-.94 2.06-2.06.94zm-11 1L8.5 8.5l.94-2.06 2.06-.94-2.06-.94L8.5 2.5l-.94 2.06-2.06.94zm10 10l.94 2.06.94-2.06 2.06-.94-2.06-.94-.94-2.06-.94 2.06-2.06.94z\"/><path d=\"M17.41 7.96l-1.37-1.37c-.4-.4-.92-.59-1.43-.59-.52 0-1.04.2-1.43.59L10.3 9.45l-7.72 7.72c-.78.78-.78 2.05 0 2.83L4 21.41c.39.39.9.59 1.41.59.51 0 1.02-.2 1.41-.59l7.78-7.78 2.81-2.81c.8-.78.8-2.07 0-2.86zM5.41 20L4 18.59l7.72-7.72 1.47 1.35L5.41 20z\"/>\n",
              "  </svg>\n",
              "      </button>\n",
              "      \n",
              "  <style>\n",
              "    .colab-df-container {\n",
              "      display:flex;\n",
              "      flex-wrap:wrap;\n",
              "      gap: 12px;\n",
              "    }\n",
              "\n",
              "    .colab-df-convert {\n",
              "      background-color: #E8F0FE;\n",
              "      border: none;\n",
              "      border-radius: 50%;\n",
              "      cursor: pointer;\n",
              "      display: none;\n",
              "      fill: #1967D2;\n",
              "      height: 32px;\n",
              "      padding: 0 0 0 0;\n",
              "      width: 32px;\n",
              "    }\n",
              "\n",
              "    .colab-df-convert:hover {\n",
              "      background-color: #E2EBFA;\n",
              "      box-shadow: 0px 1px 2px rgba(60, 64, 67, 0.3), 0px 1px 3px 1px rgba(60, 64, 67, 0.15);\n",
              "      fill: #174EA6;\n",
              "    }\n",
              "\n",
              "    [theme=dark] .colab-df-convert {\n",
              "      background-color: #3B4455;\n",
              "      fill: #D2E3FC;\n",
              "    }\n",
              "\n",
              "    [theme=dark] .colab-df-convert:hover {\n",
              "      background-color: #434B5C;\n",
              "      box-shadow: 0px 1px 3px 1px rgba(0, 0, 0, 0.15);\n",
              "      filter: drop-shadow(0px 1px 2px rgba(0, 0, 0, 0.3));\n",
              "      fill: #FFFFFF;\n",
              "    }\n",
              "  </style>\n",
              "\n",
              "      <script>\n",
              "        const buttonEl =\n",
              "          document.querySelector('#df-bc381027-efb4-4ad4-9a85-864827ed285e button.colab-df-convert');\n",
              "        buttonEl.style.display =\n",
              "          google.colab.kernel.accessAllowed ? 'block' : 'none';\n",
              "\n",
              "        async function convertToInteractive(key) {\n",
              "          const element = document.querySelector('#df-bc381027-efb4-4ad4-9a85-864827ed285e');\n",
              "          const dataTable =\n",
              "            await google.colab.kernel.invokeFunction('convertToInteractive',\n",
              "                                                     [key], {});\n",
              "          if (!dataTable) return;\n",
              "\n",
              "          const docLinkHtml = 'Like what you see? Visit the ' +\n",
              "            '<a target=\"_blank\" href=https://colab.research.google.com/notebooks/data_table.ipynb>data table notebook</a>'\n",
              "            + ' to learn more about interactive tables.';\n",
              "          element.innerHTML = '';\n",
              "          dataTable['output_type'] = 'display_data';\n",
              "          await google.colab.output.renderOutput(dataTable, element);\n",
              "          const docLink = document.createElement('div');\n",
              "          docLink.innerHTML = docLinkHtml;\n",
              "          element.appendChild(docLink);\n",
              "        }\n",
              "      </script>\n",
              "    </div>\n",
              "  </div>\n",
              "  "
            ]
          },
          "metadata": {},
          "execution_count": 5
        }
      ]
    },
    {
      "cell_type": "code",
      "source": [
        "# Converting dataframe to list format\n",
        "x_train = x_train.iloc[:,:].values\n",
        "x_test = x_test.iloc[:,:].values\n",
        "y_train = y_train.iloc[:,:].values\n",
        "y_test = y_test.iloc[:,:].values"
      ],
      "metadata": {
        "execution": {
          "iopub.status.busy": "2022-10-07T14:34:45.797645Z",
          "iopub.execute_input": "2022-10-07T14:34:45.798129Z",
          "iopub.status.idle": "2022-10-07T14:34:45.803987Z",
          "shell.execute_reply.started": "2022-10-07T14:34:45.798082Z",
          "shell.execute_reply": "2022-10-07T14:34:45.802814Z"
        },
        "trusted": true,
        "id": "a3AYGuywaQ2F"
      },
      "execution_count": null,
      "outputs": []
    },
    {
      "cell_type": "code",
      "source": [
        "x_test.shape"
      ],
      "metadata": {
        "execution": {
          "iopub.status.busy": "2022-10-07T14:34:45.805680Z",
          "iopub.execute_input": "2022-10-07T14:34:45.806066Z",
          "iopub.status.idle": "2022-10-07T14:34:45.816376Z",
          "shell.execute_reply.started": "2022-10-07T14:34:45.806031Z",
          "shell.execute_reply": "2022-10-07T14:34:45.815364Z"
        },
        "trusted": true,
        "colab": {
          "base_uri": "https://localhost:8080/"
        },
        "id": "g03xVBGEaQ2K",
        "outputId": "f7ed34c5-de8c-442d-f39c-a3b808146366"
      },
      "execution_count": null,
      "outputs": [
        {
          "output_type": "execute_result",
          "data": {
            "text/plain": [
              "(3360, 1024)"
            ]
          },
          "metadata": {},
          "execution_count": 7
        }
      ]
    },
    {
      "cell_type": "code",
      "source": [
        "y_test.shape"
      ],
      "metadata": {
        "execution": {
          "iopub.status.busy": "2022-10-07T14:34:45.818432Z",
          "iopub.execute_input": "2022-10-07T14:34:45.818855Z",
          "iopub.status.idle": "2022-10-07T14:34:45.827926Z",
          "shell.execute_reply.started": "2022-10-07T14:34:45.818741Z",
          "shell.execute_reply": "2022-10-07T14:34:45.826844Z"
        },
        "trusted": true,
        "colab": {
          "base_uri": "https://localhost:8080/"
        },
        "id": "iVBbjgzIaQ2O",
        "outputId": "670eb502-823e-44f4-e265-bd422c699539"
      },
      "execution_count": null,
      "outputs": [
        {
          "output_type": "execute_result",
          "data": {
            "text/plain": [
              "(3360, 1)"
            ]
          },
          "metadata": {},
          "execution_count": 8
        }
      ]
    },
    {
      "cell_type": "code",
      "source": [
        "print(\"Distinct Labels: \", np.unique(y_train))"
      ],
      "metadata": {
        "execution": {
          "iopub.status.busy": "2022-10-07T14:34:45.829375Z",
          "iopub.execute_input": "2022-10-07T14:34:45.829863Z",
          "iopub.status.idle": "2022-10-07T14:34:45.839095Z",
          "shell.execute_reply.started": "2022-10-07T14:34:45.829826Z",
          "shell.execute_reply": "2022-10-07T14:34:45.837964Z"
        },
        "trusted": true,
        "colab": {
          "base_uri": "https://localhost:8080/"
        },
        "id": "70b4AaTUaQ2S",
        "outputId": "ed40002d-b73a-4df2-d7d4-793e1c2b1959"
      },
      "execution_count": null,
      "outputs": [
        {
          "output_type": "stream",
          "name": "stdout",
          "text": [
            "Distinct Labels:  [ 1  2  3  4  5  6  7  8  9 10 11 12 13 14 15 16 17 18 19 20 21 22 23 24\n",
            " 25 26 27 28]\n"
          ]
        }
      ]
    },
    {
      "cell_type": "code",
      "source": [
        "# Reshape the image shape into 32 x 32\n",
        "x_train = x_train.reshape(x_train.shape[0],32,32)\n",
        "x_test = x_test.reshape(x_test.shape[0],32,32)"
      ],
      "metadata": {
        "execution": {
          "iopub.status.busy": "2022-10-07T14:34:45.840736Z",
          "iopub.execute_input": "2022-10-07T14:34:45.841181Z",
          "iopub.status.idle": "2022-10-07T14:34:45.849480Z",
          "shell.execute_reply.started": "2022-10-07T14:34:45.841146Z",
          "shell.execute_reply": "2022-10-07T14:34:45.848406Z"
        },
        "trusted": true,
        "id": "nXgOR5zwaQ2V"
      },
      "execution_count": null,
      "outputs": []
    },
    {
      "cell_type": "code",
      "source": [
        "fig, ax = plt.subplots(3,3, figsize = (30,30))\n",
        "\n",
        "for i in range(3):\n",
        "    for j in range(3):\n",
        "        ax[i,j].imshow(x_train[np.random.randint(0,x_train.shape[0])])"
      ],
      "metadata": {
        "execution": {
          "iopub.status.busy": "2022-10-07T14:34:45.851175Z",
          "iopub.execute_input": "2022-10-07T14:34:45.851965Z",
          "iopub.status.idle": "2022-10-07T14:34:48.095334Z",
          "shell.execute_reply.started": "2022-10-07T14:34:45.851914Z",
          "shell.execute_reply": "2022-10-07T14:34:48.094401Z"
        },
        "trusted": true,
        "colab": {
          "base_uri": "https://localhost:8080/",
          "height": 1000
        },
        "id": "wE0o2oaQaQ2Z",
        "outputId": "56385a7c-5bcc-42c8-9456-ad2da825520e"
      },
      "execution_count": null,
      "outputs": [
        {
          "output_type": "display_data",
          "data": {
            "text/plain": [
              "<Figure size 3000x3000 with 9 Axes>"
            ],
            "image/png": "[encoded data removed]"
          },
          "metadata": {}
        }
      ]
    },
    {
      "cell_type": "code",
      "source": [
        "# Normalizing the data\n",
        "x_train = x_train/255.0\n",
        "x_test = x_test/255.0"
      ],
      "metadata": {
        "execution": {
          "iopub.status.busy": "2022-10-07T14:34:48.101680Z",
          "iopub.execute_input": "2022-10-07T14:34:48.104128Z",
          "iopub.status.idle": "2022-10-07T14:34:48.170997Z",
          "shell.execute_reply.started": "2022-10-07T14:34:48.104090Z",
          "shell.execute_reply": "2022-10-07T14:34:48.169941Z"
        },
        "trusted": true,
        "id": "N0IFhrvvaQ2h"
      },
      "execution_count": null,
      "outputs": []
    },
    {
      "cell_type": "code",
      "source": [
        "# One hot encoding of labels\n",
        "total_classes = len(np.unique(y_train))+1\n",
        "print(total_classes)"
      ],
      "metadata": {
        "execution": {
          "iopub.status.busy": "2022-10-07T14:34:48.175860Z",
          "iopub.execute_input": "2022-10-07T14:34:48.178051Z",
          "iopub.status.idle": "2022-10-07T14:34:48.188400Z",
          "shell.execute_reply.started": "2022-10-07T14:34:48.178012Z",
          "shell.execute_reply": "2022-10-07T14:34:48.187469Z"
        },
        "trusted": true,
        "colab": {
          "base_uri": "https://localhost:8080/"
        },
        "id": "YJrv6PFraQ2k",
        "outputId": "42baab96-8309-4bc1-f816-31fe98474614"
      },
      "execution_count": null,
      "outputs": [
        {
          "output_type": "stream",
          "name": "stdout",
          "text": [
            "29\n"
          ]
        }
      ]
    },
    {
      "cell_type": "code",
      "source": [
        "y_train = to_categorical(y_train,total_classes)\n",
        "y_test = to_categorical(y_test, total_classes)"
      ],
      "metadata": {
        "execution": {
          "iopub.status.busy": "2022-10-07T14:34:48.189942Z",
          "iopub.execute_input": "2022-10-07T14:34:48.190561Z",
          "iopub.status.idle": "2022-10-07T14:34:48.197758Z",
          "shell.execute_reply.started": "2022-10-07T14:34:48.190524Z",
          "shell.execute_reply": "2022-10-07T14:34:48.196831Z"
        },
        "trusted": true,
        "id": "OSqz9wiNaQ2p"
      },
      "execution_count": null,
      "outputs": []
    },
    {
      "cell_type": "code",
      "source": [
        "y_train.shape"
      ],
      "metadata": {
        "execution": {
          "iopub.status.busy": "2022-10-07T14:34:48.199453Z",
          "iopub.execute_input": "2022-10-07T14:34:48.202138Z",
          "iopub.status.idle": "2022-10-07T14:34:48.211797Z",
          "shell.execute_reply.started": "2022-10-07T14:34:48.202026Z",
          "shell.execute_reply": "2022-10-07T14:34:48.210224Z"
        },
        "trusted": true,
        "colab": {
          "base_uri": "https://localhost:8080/"
        },
        "id": "w2RxxderaQ2s",
        "outputId": "e9897fd7-27c8-4f9d-d6c7-e12467bbd255"
      },
      "execution_count": null,
      "outputs": [
        {
          "output_type": "execute_result",
          "data": {
            "text/plain": [
              "(13440, 29)"
            ]
          },
          "metadata": {},
          "execution_count": 15
        }
      ]
    },
    {
      "cell_type": "code",
      "source": [
        "y_train[:2]"
      ],
      "metadata": {
        "execution": {
          "iopub.status.busy": "2022-10-07T14:34:48.215022Z",
          "iopub.execute_input": "2022-10-07T14:34:48.215503Z",
          "iopub.status.idle": "2022-10-07T14:34:48.229836Z",
          "shell.execute_reply.started": "2022-10-07T14:34:48.215467Z",
          "shell.execute_reply": "2022-10-07T14:34:48.228745Z"
        },
        "trusted": true,
        "colab": {
          "base_uri": "https://localhost:8080/"
        },
        "id": "ao72LVfOaQ2w",
        "outputId": "fba8fed6-a8f0-403b-fb0d-feb02c2fcd8f"
      },
      "execution_count": null,
      "outputs": [
        {
          "output_type": "execute_result",
          "data": {
            "text/plain": [
              "array([[0., 1., 0., 0., 0., 0., 0., 0., 0., 0., 0., 0., 0., 0., 0., 0.,\n",
              "        0., 0., 0., 0., 0., 0., 0., 0., 0., 0., 0., 0., 0.],\n",
              "       [0., 1., 0., 0., 0., 0., 0., 0., 0., 0., 0., 0., 0., 0., 0., 0.,\n",
              "        0., 0., 0., 0., 0., 0., 0., 0., 0., 0., 0., 0., 0.]],\n",
              "      dtype=float32)"
            ]
          },
          "metadata": {},
          "execution_count": 16
        }
      ]
    },
    {
      "cell_type": "code",
      "source": [
        "# Expanding the dimensions\n",
        "x_train = x_train.reshape([-1, 32, 32, 1])\n",
        "x_test = x_test.reshape([-1, 32, 32, 1])"
      ],
      "metadata": {
        "execution": {
          "iopub.status.busy": "2022-10-07T14:34:48.232379Z",
          "iopub.execute_input": "2022-10-07T14:34:48.233946Z",
          "iopub.status.idle": "2022-10-07T14:34:48.244991Z",
          "shell.execute_reply.started": "2022-10-07T14:34:48.233904Z",
          "shell.execute_reply": "2022-10-07T14:34:48.243939Z"
        },
        "trusted": true,
        "id": "cu4z6zCSaQ21"
      },
      "execution_count": null,
      "outputs": []
    },
    {
      "cell_type": "code",
      "source": [
        "print(\"Training size:\",x_train.shape)\n",
        "print(\"Testing size:\",x_test.shape)"
      ],
      "metadata": {
        "execution": {
          "iopub.status.busy": "2022-10-07T14:34:48.246698Z",
          "iopub.execute_input": "2022-10-07T14:34:48.247161Z",
          "iopub.status.idle": "2022-10-07T14:34:48.262495Z",
          "shell.execute_reply.started": "2022-10-07T14:34:48.247119Z",
          "shell.execute_reply": "2022-10-07T14:34:48.260958Z"
        },
        "trusted": true,
        "colab": {
          "base_uri": "https://localhost:8080/"
        },
        "id": "gmlFJXM5aQ28",
        "outputId": "63fa1967-77a2-4d90-86da-db7ce80df2bd"
      },
      "execution_count": null,
      "outputs": [
        {
          "output_type": "stream",
          "name": "stdout",
          "text": [
            "Training size: (13440, 32, 32, 1)\n",
            "Testing size: (3360, 32, 32, 1)\n"
          ]
        }
      ]
    },
    {
      "cell_type": "code",
      "source": [
        "model = Sequential([\n",
        "    Conv2D(32, 3, padding='same', activation='relu', input_shape=(32,32,1)),\n",
        "    MaxPooling2D(2,2),\n",
        "    Conv2D(64, 3, padding='same', activation='relu'),\n",
        "    MaxPooling2D(2,2),\n",
        "    Conv2D(128, 3, padding='same', activation='relu'),\n",
        "    MaxPooling2D(2,2),\n",
        "    Conv2D(64, 3, padding='same', activation='relu'),\n",
        "    MaxPooling2D(2,2),\n",
        "    Flatten(),\n",
        "    Dense(128, activation='relu'),\n",
        "    Dense(256, activation='relu'),\n",
        "    Dense(total_classes, activation='softmax')\n",
        "])\n",
        "model.summary()"
      ],
      "metadata": {
        "execution": {
          "iopub.status.busy": "2022-10-07T14:34:48.264764Z",
          "iopub.execute_input": "2022-10-07T14:34:48.265676Z",
          "iopub.status.idle": "2022-10-07T14:34:48.344357Z",
          "shell.execute_reply.started": "2022-10-07T14:34:48.265638Z",
          "shell.execute_reply": "2022-10-07T14:34:48.343345Z"
        },
        "trusted": true,
        "colab": {
          "base_uri": "https://localhost:8080/"
        },
        "id": "OF3QZ83jaQ3F",
        "outputId": "7e278374-c2f4-422e-d0e7-4c04c8f19340"
      },
      "execution_count": null,
      "outputs": [
        {
          "output_type": "stream",
          "name": "stdout",
          "text": [
            "Model: \"sequential\"\n",
            "_________________________________________________________________\n",
            " Layer (type)                Output Shape              Param #   \n",
            "=================================================================\n",
            " conv2d (Conv2D)             (None, 32, 32, 32)        320       \n",
            "                                                                 \n",
            " max_pooling2d (MaxPooling2D  (None, 16, 16, 32)       0         \n",
            " )                                                               \n",
            "                                                                 \n",
            " conv2d_1 (Conv2D)           (None, 16, 16, 64)        18496     \n",
            "                                                                 \n",
            " max_pooling2d_1 (MaxPooling  (None, 8, 8, 64)         0         \n",
            " 2D)                                                             \n",
            "                                                                 \n",
            " conv2d_2 (Conv2D)           (None, 8, 8, 128)         73856     \n",
            "                                                                 \n",
            " max_pooling2d_2 (MaxPooling  (None, 4, 4, 128)        0         \n",
            " 2D)                                                             \n",
            "                                                                 \n",
            " conv2d_3 (Conv2D)           (None, 4, 4, 64)          73792     \n",
            "                                                                 \n",
            " max_pooling2d_3 (MaxPooling  (None, 2, 2, 64)         0         \n",
            " 2D)                                                             \n",
            "                                                                 \n",
            " flatten (Flatten)           (None, 256)               0         \n",
            "                                                                 \n",
            " dense (Dense)               (None, 128)               32896     \n",
            "                                                                 \n",
            " dense_1 (Dense)             (None, 256)               33024     \n",
            "                                                                 \n",
            " dense_2 (Dense)             (None, 29)                7453      \n",
            "                                                                 \n",
            "=================================================================\n",
            "Total params: 239,837\n",
            "Trainable params: 239,837\n",
            "Non-trainable params: 0\n",
            "_________________________________________________________________\n"
          ]
        }
      ]
    },
    {
      "cell_type": "code",
      "source": [
        "model.compile(loss='categorical_crossentropy', optimizer='adam', \n",
        "                  metrics=['accuracy'])"
      ],
      "metadata": {
        "execution": {
          "iopub.status.busy": "2022-10-07T14:34:48.345644Z",
          "iopub.execute_input": "2022-10-07T14:34:48.346423Z",
          "iopub.status.idle": "2022-10-07T14:34:48.356435Z",
          "shell.execute_reply.started": "2022-10-07T14:34:48.346384Z",
          "shell.execute_reply": "2022-10-07T14:34:48.355472Z"
        },
        "trusted": true,
        "id": "PDA9f_rYaQ3O"
      },
      "execution_count": null,
      "outputs": []
    },
    {
      "cell_type": "code",
      "source": [
        "# Image augmentation\n",
        "image_generator = ImageDataGenerator(width_shift_range=0.1,\n",
        "                             height_shift_range=0.1,\n",
        "                             horizontal_flip=True)\n",
        "image_generator.fit(x_train)"
      ],
      "metadata": {
        "execution": {
          "iopub.status.busy": "2022-10-07T14:34:48.358376Z",
          "iopub.execute_input": "2022-10-07T14:34:48.359091Z",
          "iopub.status.idle": "2022-10-07T14:34:48.409045Z",
          "shell.execute_reply.started": "2022-10-07T14:34:48.359056Z",
          "shell.execute_reply": "2022-10-07T14:34:48.408032Z"
        },
        "trusted": true,
        "id": "Cb1FBYL0aQ3S"
      },
      "execution_count": null,
      "outputs": []
    },
    {
      "cell_type": "code",
      "source": [
        "x_test.shape[0]"
      ],
      "metadata": {
        "execution": {
          "iopub.status.busy": "2022-10-07T14:34:48.410640Z",
          "iopub.execute_input": "2022-10-07T14:34:48.411046Z",
          "iopub.status.idle": "2022-10-07T14:34:48.419947Z",
          "shell.execute_reply.started": "2022-10-07T14:34:48.411008Z",
          "shell.execute_reply": "2022-10-07T14:34:48.418618Z"
        },
        "trusted": true,
        "colab": {
          "base_uri": "https://localhost:8080/"
        },
        "id": "4K72GWN0aQ3a",
        "outputId": "ab00b212-1f84-4f95-803b-98b06037ceee"
      },
      "execution_count": null,
      "outputs": [
        {
          "output_type": "execute_result",
          "data": {
            "text/plain": [
              "3360"
            ]
          },
          "metadata": {},
          "execution_count": 22
        }
      ]
    },
    {
      "cell_type": "code",
      "source": [
        "y_test.shape"
      ],
      "metadata": {
        "execution": {
          "iopub.status.busy": "2022-10-07T14:34:48.421673Z",
          "iopub.execute_input": "2022-10-07T14:34:48.422129Z",
          "iopub.status.idle": "2022-10-07T14:34:48.431493Z",
          "shell.execute_reply.started": "2022-10-07T14:34:48.422089Z",
          "shell.execute_reply": "2022-10-07T14:34:48.430574Z"
        },
        "trusted": true,
        "colab": {
          "base_uri": "https://localhost:8080/"
        },
        "id": "V2Q6EHr3aQ5N",
        "outputId": "a6e25048-4b46-419b-a099-47057947a894"
      },
      "execution_count": null,
      "outputs": [
        {
          "output_type": "execute_result",
          "data": {
            "text/plain": [
              "(3360, 29)"
            ]
          },
          "metadata": {},
          "execution_count": 23
        }
      ]
    },
    {
      "cell_type": "code",
      "source": [
        "batch_size = 128\n",
        "\n",
        "history = model.fit_generator(image_generator.flow(x_train, y_train, batch_size=batch_size),\n",
        "                    steps_per_epoch=x_train.shape[0] // batch_size,\n",
        "                    epochs=100, verbose=2,\n",
        "                    validation_data=(x_test, y_test),\n",
        "                    validation_steps=x_test.shape[0] // batch_size)"
      ],
      "metadata": {
        "execution": {
          "iopub.status.busy": "2022-10-07T14:34:48.433766Z",
          "iopub.execute_input": "2022-10-07T14:34:48.434350Z",
          "iopub.status.idle": "2022-10-07T14:40:28.350468Z",
          "shell.execute_reply.started": "2022-10-07T14:34:48.434313Z",
          "shell.execute_reply": "2022-10-07T14:40:28.349311Z"
        },
        "trusted": true,
        "colab": {
          "base_uri": "https://localhost:8080/"
        },
        "id": "mEwSLoCVaQ5S",
        "outputId": "3f90b65c-73df-4278-a3be-9aa07afb2f1c"
      },
      "execution_count": null,
      "outputs": [
        {
          "output_type": "stream",
          "name": "stdout",
          "text": [
            "Epoch 1/100\n"
          ]
        },
        {
          "output_type": "stream",
          "name": "stderr",
          "text": [
            "<ipython-input-24-67f2b337446e>:3: UserWarning: `Model.fit_generator` is deprecated and will be removed in a future version. Please use `Model.fit`, which supports generators.\n",
            "  history = model.fit_generator(image_generator.flow(x_train, y_train, batch_size=batch_size),\n"
          ]
        },
        {
          "output_type": "stream",
          "name": "stdout",
          "text": [
            "105/105 - 16s - loss: 2.6405 - accuracy: 0.1868 - val_loss: 1.7925 - val_accuracy: 0.3604 - 16s/epoch - 155ms/step\n",
            "Epoch 2/100\n",
            "105/105 - 4s - loss: 1.5682 - accuracy: 0.4382 - val_loss: 1.1663 - val_accuracy: 0.5643 - 4s/epoch - 39ms/step\n",
            "Epoch 3/100\n",
            "105/105 - 4s - loss: 1.1239 - accuracy: 0.5894 - val_loss: 0.8422 - val_accuracy: 0.7003 - 4s/epoch - 38ms/step\n",
            "Epoch 4/100\n",
            "105/105 - 5s - loss: 0.8781 - accuracy: 0.6805 - val_loss: 0.6520 - val_accuracy: 0.7646 - 5s/epoch - 47ms/step\n",
            "Epoch 5/100\n",
            "105/105 - 4s - loss: 0.7557 - accuracy: 0.7318 - val_loss: 0.6519 - val_accuracy: 0.7530 - 4s/epoch - 38ms/step\n",
            "Epoch 6/100\n",
            "105/105 - 4s - loss: 0.6446 - accuracy: 0.7746 - val_loss: 0.5453 - val_accuracy: 0.8083 - 4s/epoch - 38ms/step\n",
            "Epoch 7/100\n",
            "105/105 - 5s - loss: 0.5919 - accuracy: 0.7903 - val_loss: 0.4502 - val_accuracy: 0.8488 - 5s/epoch - 47ms/step\n",
            "Epoch 8/100\n",
            "105/105 - 4s - loss: 0.5376 - accuracy: 0.8141 - val_loss: 0.5037 - val_accuracy: 0.8304 - 4s/epoch - 37ms/step\n",
            "Epoch 9/100\n",
            "105/105 - 4s - loss: 0.5015 - accuracy: 0.8299 - val_loss: 0.4006 - val_accuracy: 0.8580 - 4s/epoch - 37ms/step\n",
            "Epoch 10/100\n",
            "105/105 - 5s - loss: 0.4512 - accuracy: 0.8459 - val_loss: 0.3951 - val_accuracy: 0.8655 - 5s/epoch - 44ms/step\n",
            "Epoch 11/100\n",
            "105/105 - 4s - loss: 0.4197 - accuracy: 0.8528 - val_loss: 0.3295 - val_accuracy: 0.8905 - 4s/epoch - 39ms/step\n",
            "Epoch 12/100\n",
            "105/105 - 4s - loss: 0.4016 - accuracy: 0.8609 - val_loss: 0.4240 - val_accuracy: 0.8577 - 4s/epoch - 42ms/step\n",
            "Epoch 13/100\n",
            "105/105 - 4s - loss: 0.3596 - accuracy: 0.8783 - val_loss: 0.3227 - val_accuracy: 0.8902 - 4s/epoch - 42ms/step\n",
            "Epoch 14/100\n",
            "105/105 - 4s - loss: 0.3267 - accuracy: 0.8875 - val_loss: 0.3052 - val_accuracy: 0.8970 - 4s/epoch - 38ms/step\n",
            "Epoch 15/100\n",
            "105/105 - 5s - loss: 0.3224 - accuracy: 0.8884 - val_loss: 0.2695 - val_accuracy: 0.9158 - 5s/epoch - 47ms/step\n",
            "Epoch 16/100\n",
            "105/105 - 4s - loss: 0.3205 - accuracy: 0.8923 - val_loss: 0.2462 - val_accuracy: 0.9202 - 4s/epoch - 39ms/step\n",
            "Epoch 17/100\n",
            "105/105 - 4s - loss: 0.2952 - accuracy: 0.9003 - val_loss: 0.2627 - val_accuracy: 0.9146 - 4s/epoch - 37ms/step\n",
            "Epoch 18/100\n",
            "105/105 - 5s - loss: 0.2932 - accuracy: 0.8995 - val_loss: 0.2987 - val_accuracy: 0.8952 - 5s/epoch - 47ms/step\n",
            "Epoch 19/100\n",
            "105/105 - 4s - loss: 0.2620 - accuracy: 0.9137 - val_loss: 0.2532 - val_accuracy: 0.9223 - 4s/epoch - 38ms/step\n",
            "Epoch 20/100\n",
            "105/105 - 4s - loss: 0.2587 - accuracy: 0.9123 - val_loss: 0.2730 - val_accuracy: 0.9074 - 4s/epoch - 38ms/step\n",
            "Epoch 21/100\n",
            "105/105 - 5s - loss: 0.2261 - accuracy: 0.9244 - val_loss: 0.2363 - val_accuracy: 0.9268 - 5s/epoch - 48ms/step\n",
            "Epoch 22/100\n",
            "105/105 - 4s - loss: 0.2194 - accuracy: 0.9263 - val_loss: 0.2525 - val_accuracy: 0.9259 - 4s/epoch - 39ms/step\n",
            "Epoch 23/100\n",
            "105/105 - 4s - loss: 0.2147 - accuracy: 0.9279 - val_loss: 0.2233 - val_accuracy: 0.9345 - 4s/epoch - 38ms/step\n",
            "Epoch 24/100\n",
            "105/105 - 5s - loss: 0.2074 - accuracy: 0.9338 - val_loss: 0.2858 - val_accuracy: 0.9048 - 5s/epoch - 48ms/step\n",
            "Epoch 25/100\n",
            "105/105 - 4s - loss: 0.1962 - accuracy: 0.9341 - val_loss: 0.2771 - val_accuracy: 0.9101 - 4s/epoch - 39ms/step\n",
            "Epoch 26/100\n",
            "105/105 - 4s - loss: 0.2004 - accuracy: 0.9323 - val_loss: 0.2789 - val_accuracy: 0.9128 - 4s/epoch - 38ms/step\n",
            "Epoch 27/100\n",
            "105/105 - 5s - loss: 0.2019 - accuracy: 0.9327 - val_loss: 0.2045 - val_accuracy: 0.9417 - 5s/epoch - 47ms/step\n",
            "Epoch 28/100\n",
            "105/105 - 4s - loss: 0.1808 - accuracy: 0.9391 - val_loss: 0.2392 - val_accuracy: 0.9298 - 4s/epoch - 38ms/step\n",
            "Epoch 29/100\n",
            "105/105 - 5s - loss: 0.1909 - accuracy: 0.9357 - val_loss: 0.2189 - val_accuracy: 0.9304 - 5s/epoch - 48ms/step\n",
            "Epoch 30/100\n",
            "105/105 - 4s - loss: 0.1724 - accuracy: 0.9425 - val_loss: 0.2275 - val_accuracy: 0.9307 - 4s/epoch - 39ms/step\n",
            "Epoch 31/100\n",
            "105/105 - 4s - loss: 0.1724 - accuracy: 0.9420 - val_loss: 0.1831 - val_accuracy: 0.9479 - 4s/epoch - 39ms/step\n",
            "Epoch 32/100\n",
            "105/105 - 5s - loss: 0.1548 - accuracy: 0.9489 - val_loss: 0.2162 - val_accuracy: 0.9348 - 5s/epoch - 48ms/step\n",
            "Epoch 33/100\n",
            "105/105 - 4s - loss: 0.1491 - accuracy: 0.9493 - val_loss: 0.1934 - val_accuracy: 0.9452 - 4s/epoch - 39ms/step\n",
            "Epoch 34/100\n",
            "105/105 - 4s - loss: 0.1480 - accuracy: 0.9510 - val_loss: 0.1896 - val_accuracy: 0.9458 - 4s/epoch - 39ms/step\n",
            "Epoch 35/100\n",
            "105/105 - 5s - loss: 0.1432 - accuracy: 0.9525 - val_loss: 0.1926 - val_accuracy: 0.9446 - 5s/epoch - 43ms/step\n",
            "Epoch 36/100\n",
            "105/105 - 4s - loss: 0.1448 - accuracy: 0.9487 - val_loss: 0.2288 - val_accuracy: 0.9402 - 4s/epoch - 38ms/step\n",
            "Epoch 37/100\n",
            "105/105 - 5s - loss: 0.1438 - accuracy: 0.9524 - val_loss: 0.1887 - val_accuracy: 0.9470 - 5s/epoch - 45ms/step\n",
            "Epoch 38/100\n",
            "105/105 - 4s - loss: 0.1431 - accuracy: 0.9510 - val_loss: 0.1718 - val_accuracy: 0.9506 - 4s/epoch - 38ms/step\n",
            "Epoch 39/100\n",
            "105/105 - 4s - loss: 0.1361 - accuracy: 0.9555 - val_loss: 0.1969 - val_accuracy: 0.9464 - 4s/epoch - 39ms/step\n",
            "Epoch 40/100\n",
            "105/105 - 5s - loss: 0.1321 - accuracy: 0.9560 - val_loss: 0.2331 - val_accuracy: 0.9393 - 5s/epoch - 48ms/step\n",
            "Epoch 41/100\n",
            "105/105 - 4s - loss: 0.1275 - accuracy: 0.9572 - val_loss: 0.1934 - val_accuracy: 0.9512 - 4s/epoch - 39ms/step\n",
            "Epoch 42/100\n",
            "105/105 - 4s - loss: 0.1299 - accuracy: 0.9558 - val_loss: 0.1899 - val_accuracy: 0.9479 - 4s/epoch - 38ms/step\n",
            "Epoch 43/100\n",
            "105/105 - 5s - loss: 0.1251 - accuracy: 0.9594 - val_loss: 0.1816 - val_accuracy: 0.9509 - 5s/epoch - 48ms/step\n",
            "Epoch 44/100\n",
            "105/105 - 4s - loss: 0.1139 - accuracy: 0.9620 - val_loss: 0.1769 - val_accuracy: 0.9577 - 4s/epoch - 38ms/step\n",
            "Epoch 45/100\n",
            "105/105 - 4s - loss: 0.1273 - accuracy: 0.9572 - val_loss: 0.1880 - val_accuracy: 0.9485 - 4s/epoch - 37ms/step\n",
            "Epoch 46/100\n",
            "105/105 - 5s - loss: 0.1123 - accuracy: 0.9616 - val_loss: 0.1490 - val_accuracy: 0.9589 - 5s/epoch - 47ms/step\n",
            "Epoch 47/100\n",
            "105/105 - 4s - loss: 0.1198 - accuracy: 0.9596 - val_loss: 0.1827 - val_accuracy: 0.9497 - 4s/epoch - 37ms/step\n",
            "Epoch 48/100\n",
            "105/105 - 4s - loss: 0.1123 - accuracy: 0.9639 - val_loss: 0.1460 - val_accuracy: 0.9637 - 4s/epoch - 37ms/step\n",
            "Epoch 49/100\n",
            "105/105 - 4s - loss: 0.1080 - accuracy: 0.9644 - val_loss: 0.1604 - val_accuracy: 0.9601 - 4s/epoch - 40ms/step\n",
            "Epoch 50/100\n",
            "105/105 - 4s - loss: 0.0997 - accuracy: 0.9667 - val_loss: 0.1831 - val_accuracy: 0.9539 - 4s/epoch - 38ms/step\n",
            "Epoch 51/100\n",
            "105/105 - 5s - loss: 0.1115 - accuracy: 0.9623 - val_loss: 0.1702 - val_accuracy: 0.9595 - 5s/epoch - 47ms/step\n",
            "Epoch 52/100\n",
            "105/105 - 4s - loss: 0.1068 - accuracy: 0.9647 - val_loss: 0.1378 - val_accuracy: 0.9640 - 4s/epoch - 39ms/step\n",
            "Epoch 53/100\n",
            "105/105 - 4s - loss: 0.1004 - accuracy: 0.9675 - val_loss: 0.1958 - val_accuracy: 0.9485 - 4s/epoch - 38ms/step\n",
            "Epoch 54/100\n",
            "105/105 - 5s - loss: 0.0986 - accuracy: 0.9672 - val_loss: 0.1879 - val_accuracy: 0.9545 - 5s/epoch - 47ms/step\n",
            "Epoch 55/100\n",
            "105/105 - 4s - loss: 0.1012 - accuracy: 0.9656 - val_loss: 0.1722 - val_accuracy: 0.9565 - 4s/epoch - 38ms/step\n",
            "Epoch 56/100\n",
            "105/105 - 4s - loss: 0.0934 - accuracy: 0.9680 - val_loss: 0.1676 - val_accuracy: 0.9595 - 4s/epoch - 38ms/step\n",
            "Epoch 57/100\n",
            "105/105 - 5s - loss: 0.0922 - accuracy: 0.9691 - val_loss: 0.1887 - val_accuracy: 0.9503 - 5s/epoch - 47ms/step\n",
            "Epoch 58/100\n",
            "105/105 - 4s - loss: 0.0955 - accuracy: 0.9680 - val_loss: 0.1719 - val_accuracy: 0.9598 - 4s/epoch - 38ms/step\n",
            "Epoch 59/100\n",
            "105/105 - 5s - loss: 0.0874 - accuracy: 0.9698 - val_loss: 0.1875 - val_accuracy: 0.9527 - 5s/epoch - 43ms/step\n",
            "Epoch 60/100\n",
            "105/105 - 4s - loss: 0.0903 - accuracy: 0.9694 - val_loss: 0.1368 - val_accuracy: 0.9670 - 4s/epoch - 42ms/step\n",
            "Epoch 61/100\n",
            "105/105 - 4s - loss: 0.0907 - accuracy: 0.9707 - val_loss: 0.1332 - val_accuracy: 0.9688 - 4s/epoch - 38ms/step\n",
            "Epoch 62/100\n",
            "105/105 - 5s - loss: 0.0803 - accuracy: 0.9721 - val_loss: 0.2032 - val_accuracy: 0.9485 - 5s/epoch - 47ms/step\n",
            "Epoch 63/100\n",
            "105/105 - 4s - loss: 0.0865 - accuracy: 0.9707 - val_loss: 0.1510 - val_accuracy: 0.9655 - 4s/epoch - 37ms/step\n",
            "Epoch 64/100\n",
            "105/105 - 4s - loss: 0.0848 - accuracy: 0.9707 - val_loss: 0.1696 - val_accuracy: 0.9577 - 4s/epoch - 37ms/step\n",
            "Epoch 65/100\n",
            "105/105 - 5s - loss: 0.0930 - accuracy: 0.9696 - val_loss: 0.1507 - val_accuracy: 0.9613 - 5s/epoch - 47ms/step\n",
            "Epoch 66/100\n",
            "105/105 - 4s - loss: 0.0766 - accuracy: 0.9748 - val_loss: 0.1661 - val_accuracy: 0.9592 - 4s/epoch - 37ms/step\n",
            "Epoch 67/100\n",
            "105/105 - 5s - loss: 0.0707 - accuracy: 0.9753 - val_loss: 0.1778 - val_accuracy: 0.9574 - 5s/epoch - 45ms/step\n",
            "Epoch 68/100\n",
            "105/105 - 4s - loss: 0.0830 - accuracy: 0.9717 - val_loss: 0.1633 - val_accuracy: 0.9646 - 4s/epoch - 39ms/step\n",
            "Epoch 69/100\n",
            "105/105 - 4s - loss: 0.0745 - accuracy: 0.9750 - val_loss: 0.1697 - val_accuracy: 0.9577 - 4s/epoch - 37ms/step\n",
            "Epoch 70/100\n",
            "105/105 - 5s - loss: 0.0842 - accuracy: 0.9725 - val_loss: 0.1514 - val_accuracy: 0.9598 - 5s/epoch - 47ms/step\n",
            "Epoch 71/100\n",
            "105/105 - 4s - loss: 0.0729 - accuracy: 0.9744 - val_loss: 0.1700 - val_accuracy: 0.9565 - 4s/epoch - 38ms/step\n",
            "Epoch 72/100\n",
            "105/105 - 4s - loss: 0.0740 - accuracy: 0.9748 - val_loss: 0.1858 - val_accuracy: 0.9616 - 4s/epoch - 38ms/step\n",
            "Epoch 73/100\n",
            "105/105 - 5s - loss: 0.0709 - accuracy: 0.9761 - val_loss: 0.1697 - val_accuracy: 0.9634 - 5s/epoch - 47ms/step\n",
            "Epoch 74/100\n",
            "105/105 - 4s - loss: 0.0726 - accuracy: 0.9754 - val_loss: 0.2034 - val_accuracy: 0.9515 - 4s/epoch - 37ms/step\n",
            "Epoch 75/100\n",
            "105/105 - 4s - loss: 0.0722 - accuracy: 0.9764 - val_loss: 0.1382 - val_accuracy: 0.9646 - 4s/epoch - 37ms/step\n",
            "Epoch 76/100\n",
            "105/105 - 5s - loss: 0.0688 - accuracy: 0.9781 - val_loss: 0.1940 - val_accuracy: 0.9536 - 5s/epoch - 47ms/step\n",
            "Epoch 77/100\n",
            "105/105 - 4s - loss: 0.0682 - accuracy: 0.9778 - val_loss: 0.1477 - val_accuracy: 0.9622 - 4s/epoch - 38ms/step\n",
            "Epoch 78/100\n",
            "105/105 - 4s - loss: 0.0691 - accuracy: 0.9772 - val_loss: 0.1479 - val_accuracy: 0.9676 - 4s/epoch - 38ms/step\n",
            "Epoch 79/100\n",
            "105/105 - 5s - loss: 0.0721 - accuracy: 0.9768 - val_loss: 0.1580 - val_accuracy: 0.9634 - 5s/epoch - 44ms/step\n",
            "Epoch 80/100\n",
            "105/105 - 4s - loss: 0.0609 - accuracy: 0.9796 - val_loss: 0.1695 - val_accuracy: 0.9604 - 4s/epoch - 37ms/step\n",
            "Epoch 81/100\n",
            "105/105 - 5s - loss: 0.0726 - accuracy: 0.9756 - val_loss: 0.1449 - val_accuracy: 0.9649 - 5s/epoch - 43ms/step\n",
            "Epoch 82/100\n",
            "105/105 - 4s - loss: 0.0689 - accuracy: 0.9760 - val_loss: 0.1805 - val_accuracy: 0.9583 - 4s/epoch - 42ms/step\n",
            "Epoch 83/100\n",
            "105/105 - 4s - loss: 0.0622 - accuracy: 0.9786 - val_loss: 0.1563 - val_accuracy: 0.9664 - 4s/epoch - 37ms/step\n",
            "Epoch 84/100\n",
            "105/105 - 4s - loss: 0.0725 - accuracy: 0.9749 - val_loss: 0.1475 - val_accuracy: 0.9661 - 4s/epoch - 43ms/step\n",
            "Epoch 85/100\n",
            "105/105 - 4s - loss: 0.0655 - accuracy: 0.9777 - val_loss: 0.1535 - val_accuracy: 0.9658 - 4s/epoch - 39ms/step\n",
            "Epoch 86/100\n",
            "105/105 - 4s - loss: 0.0731 - accuracy: 0.9757 - val_loss: 0.1409 - val_accuracy: 0.9652 - 4s/epoch - 37ms/step\n",
            "Epoch 87/100\n",
            "105/105 - 5s - loss: 0.0732 - accuracy: 0.9761 - val_loss: 0.1495 - val_accuracy: 0.9628 - 5s/epoch - 47ms/step\n",
            "Epoch 88/100\n",
            "105/105 - 4s - loss: 0.0584 - accuracy: 0.9804 - val_loss: 0.1624 - val_accuracy: 0.9625 - 4s/epoch - 37ms/step\n",
            "Epoch 89/100\n",
            "105/105 - 4s - loss: 0.0653 - accuracy: 0.9782 - val_loss: 0.1439 - val_accuracy: 0.9688 - 4s/epoch - 38ms/step\n",
            "Epoch 90/100\n",
            "105/105 - 5s - loss: 0.0642 - accuracy: 0.9788 - val_loss: 0.1290 - val_accuracy: 0.9720 - 5s/epoch - 47ms/step\n",
            "Epoch 91/100\n",
            "105/105 - 4s - loss: 0.0577 - accuracy: 0.9804 - val_loss: 0.1494 - val_accuracy: 0.9699 - 4s/epoch - 37ms/step\n",
            "Epoch 92/100\n",
            "105/105 - 4s - loss: 0.0629 - accuracy: 0.9787 - val_loss: 0.1320 - val_accuracy: 0.9690 - 4s/epoch - 38ms/step\n",
            "Epoch 93/100\n",
            "105/105 - 5s - loss: 0.0621 - accuracy: 0.9789 - val_loss: 0.1551 - val_accuracy: 0.9634 - 5s/epoch - 48ms/step\n",
            "Epoch 94/100\n",
            "105/105 - 4s - loss: 0.0572 - accuracy: 0.9812 - val_loss: 0.1654 - val_accuracy: 0.9688 - 4s/epoch - 38ms/step\n",
            "Epoch 95/100\n",
            "105/105 - 4s - loss: 0.0660 - accuracy: 0.9792 - val_loss: 0.1496 - val_accuracy: 0.9685 - 4s/epoch - 39ms/step\n",
            "Epoch 96/100\n",
            "105/105 - 4s - loss: 0.0598 - accuracy: 0.9795 - val_loss: 0.1596 - val_accuracy: 0.9649 - 4s/epoch - 40ms/step\n",
            "Epoch 97/100\n",
            "105/105 - 4s - loss: 0.0598 - accuracy: 0.9798 - val_loss: 0.1602 - val_accuracy: 0.9625 - 4s/epoch - 38ms/step\n",
            "Epoch 98/100\n",
            "105/105 - 5s - loss: 0.0570 - accuracy: 0.9808 - val_loss: 0.1750 - val_accuracy: 0.9610 - 5s/epoch - 46ms/step\n",
            "Epoch 99/100\n",
            "105/105 - 4s - loss: 0.0591 - accuracy: 0.9796 - val_loss: 0.1566 - val_accuracy: 0.9673 - 4s/epoch - 38ms/step\n",
            "Epoch 100/100\n",
            "105/105 - 6s - loss: 0.0558 - accuracy: 0.9825 - val_loss: 0.1478 - val_accuracy: 0.9726 - 6s/epoch - 60ms/step\n"
          ]
        }
      ]
    },
    {
      "cell_type": "code",
      "source": [
        "model.evaluate(x_test, y_test)"
      ],
      "metadata": {
        "execution": {
          "iopub.status.busy": "2022-10-07T14:46:02.245158Z",
          "iopub.execute_input": "2022-10-07T14:46:02.245602Z",
          "iopub.status.idle": "2022-10-07T14:46:02.728038Z",
          "shell.execute_reply.started": "2022-10-07T14:46:02.245561Z",
          "shell.execute_reply": "2022-10-07T14:46:02.727135Z"
        },
        "trusted": true,
        "colab": {
          "base_uri": "https://localhost:8080/"
        },
        "id": "Ez-qQ75qaQ5W",
        "outputId": "64168c3d-39ef-49ab-8d8d-4f655e935782"
      },
      "execution_count": null,
      "outputs": [
        {
          "output_type": "stream",
          "name": "stdout",
          "text": [
            "105/105 [==============================] - 0s 3ms/step - loss: 0.1478 - accuracy: 0.9726\n"
          ]
        },
        {
          "output_type": "execute_result",
          "data": {
            "text/plain": [
              "[0.1477869600057602, 0.9726190567016602]"
            ]
          },
          "metadata": {},
          "execution_count": 25
        }
      ]
    },
    {
      "cell_type": "code",
      "source": [
        "import seaborn as sns\n",
        "plt.style.use('seaborn-dark')\n",
        "fig, ax = plt.subplots(2, 2, figsize=(10, 10))\n",
        "sns.lineplot(x=np.arange(1, 101), y=history.history.get('loss'), ax=ax[0, 0])\n",
        "sns.lineplot(x=np.arange(1, 101), y=history.history.get('accuracy'), ax=ax[0, 1])\n",
        "sns.lineplot(x=np.arange(1, 101), y=history.history.get('val_loss'), ax=ax[1, 0])\n",
        "sns.lineplot(x=np.arange(1, 101), y=history.history.get('val_accuracy'), ax=ax[1, 1])\n",
        "ax[0, 0].set_title('Training Loss vs Epochs')\n",
        "ax[0, 1].set_title('Training Accuracy vs Epochs')\n",
        "ax[1, 0].set_title('Validation Loss vs Epochs')\n",
        "ax[1, 1].set_title('Validation Accuracy vs Epochs')\n",
        "fig.suptitle('Basic CNN model', size=16)\n",
        "plt.show()"
      ],
      "metadata": {
        "execution": {
          "iopub.status.busy": "2022-10-07T14:43:16.493900Z",
          "iopub.execute_input": "2022-10-07T14:43:16.494275Z",
          "iopub.status.idle": "2022-10-07T14:43:17.355552Z",
          "shell.execute_reply.started": "2022-10-07T14:43:16.494243Z",
          "shell.execute_reply": "2022-10-07T14:43:17.354534Z"
        },
        "trusted": true,
        "colab": {
          "base_uri": "https://localhost:8080/",
          "height": 980
        },
        "id": "6iUElGmZaQ5Y",
        "outputId": "d0bd26c2-9c89-4bd4-b3ad-335174c9f11b"
      },
      "execution_count": null,
      "outputs": [
        {
          "output_type": "stream",
          "name": "stderr",
          "text": [
            "<ipython-input-26-805c3ffbcb0b>:2: MatplotlibDeprecationWarning: The seaborn styles shipped by Matplotlib are deprecated since 3.6, as they no longer correspond to the styles shipped by seaborn. However, they will remain available as 'seaborn-v0_8-<style>'. Alternatively, directly use the seaborn API instead.\n",
            "  plt.style.use('seaborn-dark')\n"
          ]
        },
        {
          "output_type": "display_data",
          "data": {
            "text/plain": [
              "<Figure size 1000x1000 with 4 Axes>"
            ],
            "image/png": "[encoded data removed]"
          },
          "metadata": {}
        }
      ]
    },
    {
      "cell_type": "code",
      "source": [],
      "metadata": {
        "id": "NhVWZfP3aQ5d"
      },
      "execution_count": null,
      "outputs": []
    }
  ]
}